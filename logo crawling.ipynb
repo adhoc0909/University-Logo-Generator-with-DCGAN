{
 "cells": [
  {
   "cell_type": "code",
   "execution_count": 7,
   "metadata": {
    "scrolled": true
   },
   "outputs": [
    {
     "name": "stdout",
     "output_type": "stream",
     "text": [
      "put the first URL: https://en.wikipedia.org/w/index.php?title=Category:University_and_college_logos&fileuntil=Catholic+Theological+Union+Logo.png#mw-category-media\n"
     ]
    }
   ],
   "source": [
    "from urllib.request import urlopen\n",
    "\n",
    "\n",
    "url1=input(\"put the first URL: \")\n",
    "\n",
    "response=urlopen(url1)\n",
    "res=response.read().decode(\"utf-8\")\n",
    "\n",
    "urls=[]\n",
    "\n",
    "while True:\n",
    "    fnindex=0\n",
    "    while True:\n",
    "        if \"<li><a href\" not in res[fnindex:]:\n",
    "            break\n",
    "        stindex=res.find(\"<li><a href\", fnindex)+13\n",
    "        fnindex=res.find(\"\\\" title\", stindex)\n",
    "        url2=\"https://en.wikipedia.org/\"+res[stindex:fnindex]\n",
    "        if '.jpg' not in url2 and '.png' not in url2:\n",
    "            continue\n",
    "        urls.append(url2)\n",
    "    if \"https://en.wikipedia.org//wiki/File:ZMC_Logo.png\" in urls:\n",
    "        break\n",
    "    nextstindex=res.find(\"<a href=\", res.find(\"previous page\"))+9\n",
    "    nextfnindex=res.find(\"\\\"\", nextstindex)\n",
    "    url=\"https://en.wikipedia.org\"+res[nextstindex:nextfnindex].replace(\"amp;\",'')\n",
    "    response=urlopen(url)\n",
    "    res=response.read().decode(\"utf-8\")\n",
    "    \n",
    "        \n"
   ]
  },
  {
   "cell_type": "code",
   "execution_count": null,
   "metadata": {
    "scrolled": false
   },
   "outputs": [],
   "source": [
    "import os\n",
    "from urllib.request import urlretrieve\n",
    "\n",
    "root=\"C:\\\\Users\\\\admin\\\\OneDrive - 경희대학교\\\\2019년 2학기 강의자료\\\\머신러닝\\\\프로젝트\\\\university logos\"\n",
    "for url in urls:\n",
    "    response=urlopen(url)\n",
    "    source=response.read().decode(\"utf-8\")\n",
    "    filestindex=source.find(\"<title>File:\")+12\n",
    "    filefnindex=source.find(\" - Wikipedia</title>\", filestindex)\n",
    "    filename=source[filestindex:filefnindex]\n",
    "    \n",
    "    stindex=source.find(\"https://upload\")\n",
    "    fnindex=source.find(\"\\\"\",stindex)\n",
    "    imgurl=source[stindex:fnindex]\n",
    "    os.chdir(root)\n",
    "    urlretrieve(imgurl,filename)"
   ]
  }
 ],
 "metadata": {
  "kernelspec": {
   "display_name": "Python 3",
   "language": "python",
   "name": "python3"
  },
  "language_info": {
   "codemirror_mode": {
    "name": "ipython",
    "version": 3
   },
   "file_extension": ".py",
   "mimetype": "text/x-python",
   "name": "python",
   "nbconvert_exporter": "python",
   "pygments_lexer": "ipython3",
   "version": "3.7.4"
  }
 },
 "nbformat": 4,
 "nbformat_minor": 2
}
